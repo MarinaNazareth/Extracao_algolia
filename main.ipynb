{
 "cells": [
  {
   "cell_type": "code",
   "execution_count": null,
   "id": "b90ad831",
   "metadata": {},
   "outputs": [],
   "source": [
    "# fazer gerar uma lista e colocar num json\n",
    "\n",
    "from algoliasearch.search_client import SearchClient\n",
    "import json\n",
    "\n",
    "# Use uma chave de API com permissões de \"browse\" ACL\n",
    "client = SearchClient.create(\"usuario\", \"senha\")\n",
    "index = client.init_index(\"nome\")\n",
    "\n",
    "# Inicializa uma lista para armazenar os registros\n",
    "records_list = []\n",
    "\n",
    "# Recupera todos os registros e adiciona à lista\n",
    "for record in index.browse_objects():\n",
    "    records_list.append(record)\n",
    "\n",
    "output_filename = \"exported_records_prod.json\"\n",
    "\n",
    "# Serializa a lista de registros em um arquivo JSON\n",
    "with open(output_filename, \"w\") as json_file:\n",
    "    json.dump(records_list, json_file)\n",
    "\n",
    "print(f\"Registros exportados para {output_filename}\")"
   ]
  },
  {
   "cell_type": "code",
   "execution_count": null,
   "id": "b8343edd",
   "metadata": {},
   "outputs": [],
   "source": [
    "# gerar um xlsx lendo o json\n",
    "import pandas as pd\n",
    "\n",
    "# Carregue o arquivo JSON\n",
    "json_file = 'exported_records_prod.json'  \n",
    "data = pd.read_json(json_file)\n",
    "\n",
    "excel_file = 'extracao_prod_19_10_23.xlsx'  \n",
    "\n",
    "data.to_excel(excel_file, index=False)\n",
    "\n",
    "print(f'Arquivo Excel gerado com sucesso: {excel_file}')"
   ]
  },
  {
   "cell_type": "code",
   "execution_count": null,
   "id": "34bebcb8",
   "metadata": {},
   "outputs": [],
   "source": [
    "# gerar um xlsx lendo o ndjson\n",
    "import pandas as pd\n",
    "import json\n",
    "\n",
    "# Abra o arquivo NDJSON para leitura\n",
    "with open('prod_13_09.ndjson', 'r', encoding='utf-8') as file:\n",
    "    # lista vazia para armazenar os objetos JSON\n",
    "    data = []\n",
    "    # Leia cada linha do arquivo\n",
    "    for line in file:\n",
    "        #adicionar à lista\n",
    "        data.append(json.loads(line))\n",
    "\n",
    "# df a partir da lista de objetos JSON\n",
    "df = pd.DataFrame(data)\n",
    "\n",
    "excel_file = 'extracao_prod_13_09.xlsx'\n",
    "\n",
    "df.to_excel(excel_file, index=False)\n",
    "\n",
    "print(f'Arquivo Excel gerado com sucesso: {excel_file}')"
   ]
  },
  {
   "cell_type": "code",
   "execution_count": null,
   "id": "ed5e5db1",
   "metadata": {},
   "outputs": [],
   "source": []
  }
 ],
 "metadata": {
  "kernelspec": {
   "display_name": "Python 3 (ipykernel)",
   "language": "python",
   "name": "python3"
  },
  "language_info": {
   "codemirror_mode": {
    "name": "ipython",
    "version": 3
   },
   "file_extension": ".py",
   "mimetype": "text/x-python",
   "name": "python",
   "nbconvert_exporter": "python",
   "pygments_lexer": "ipython3",
   "version": "3.10.9"
  }
 },
 "nbformat": 4,
 "nbformat_minor": 5
}
